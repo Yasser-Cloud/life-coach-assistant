{
 "cells": [
  {
   "cell_type": "code",
   "execution_count": 1,
   "id": "73ec5e1c-5c4b-4c0c-aa04-43cb2ab81d84",
   "metadata": {},
   "outputs": [],
   "source": [
    "from langchain import VectorDBQA, HuggingFacePipeline\n",
    "from langchain.embeddings import HuggingFaceEmbeddings\n",
    "from langchain.vectorstores import FAISS\n",
    "from langchain.chains import RetrievalQA\n",
    "from langchain.schema import Document\n",
    "from langchain.retrievers import BM25Retriever\n",
    "from sklearn.metrics.pairwise import cosine_similarity\n",
    "\n",
    "\n",
    "import transformers \n",
    "from transformers import pipeline\n",
    "import pandas as pd\n",
    "from tqdm.auto import tqdm\n",
    "import warnings\n",
    "import json\n",
    "import re\n",
    "warnings.filterwarnings('ignore')"
   ]
  },
  {
   "cell_type": "markdown",
   "id": "f64b3a76-1bd3-4fb3-89bd-394918585b0f",
   "metadata": {},
   "source": [
    "## Ingestion\r\n",
    "\r\n"
   ]
  },
  {
   "cell_type": "code",
   "execution_count": 2,
   "id": "20174e03-52a5-435f-9cc7-83cd432be99b",
   "metadata": {},
   "outputs": [
    {
     "data": {
      "text/plain": [
       "384"
      ]
     },
     "execution_count": 2,
     "metadata": {},
     "output_type": "execute_result"
    }
   ],
   "source": [
    "daily_dialog = pd.read_csv('./../data/daily_dialog.csv')\n",
    "\n",
    "\n",
    "embeddings = HuggingFaceEmbeddings(model_name=\"sentence-transformers/all-MiniLM-L6-v2\")\n",
    "\n",
    "#vectorstore = FAISS.from_documents(texts, embeddings)\n",
    "\n",
    "\n",
    "len(embeddings.embed_documents(['How to get fit?'])[0])\n"
   ]
  },
  {
   "cell_type": "code",
   "execution_count": 3,
   "id": "274d7407-ef8c-46ee-8a1a-e36a3b1335be",
   "metadata": {},
   "outputs": [],
   "source": [
    "#'text':row.text\n",
    "docs = [Document(page_content=row.text,metadata={'id':idx,'emoji':row.emoji,'action':row.action }) for idx ,row in daily_dialog.iterrows()]\n"
   ]
  },
  {
   "cell_type": "code",
   "execution_count": 4,
   "id": "3fd6d6b3-effa-4acf-a2c8-9e2bd6eca3c6",
   "metadata": {},
   "outputs": [
    {
     "data": {
      "text/plain": [
       "(10549,\n",
       " Document(metadata={'id': 0, 'emoji': ' happiness ', 'action': ' directive , commissive , question , inform '}, page_content=\"Say , Jim , how about going for a few beers after dinner ?   You know that is tempting but is really not good for our fitness .   What do you mean ? It will help us to relax .   Do you really think so ? I don't . It will just make us fat and act silly . Remember last time ?   I guess you are right.But what shall we do ? I don't feel like sitting at home .   I suggest a walk over to the gym where we can play singsong and meet some of our friends .   That's a good idea . I hear Mary and Sally often go there to play pingpong.Perhaps we can make a foursome with them .   Sounds great to me ! If they are willing , we could ask them to go dancing with us.That is excellent exercise and fun , too .   Good.Let ' s go now .   All right . \"))"
      ]
     },
     "execution_count": 4,
     "metadata": {},
     "output_type": "execute_result"
    }
   ],
   "source": [
    "len(docs),docs[0]"
   ]
  },
  {
   "cell_type": "code",
   "execution_count": 5,
   "id": "84c0bc35-58d6-4f28-a674-9d49ef40c797",
   "metadata": {},
   "outputs": [],
   "source": [
    "\n",
    "\n",
    "vectorstore = FAISS.from_documents(docs, embeddings)\n",
    "\n",
    "# Persist the FAISS index to disk for later use (similar to Chroma persist_directory)\n",
    "vectorstore.save_local(\"./../data/dialog_index\")\n"
   ]
  },
  {
   "cell_type": "markdown",
   "id": "eb5a967f-5b2c-43c8-8707-7236bea5cdd6",
   "metadata": {},
   "source": [
    "## RAG flow"
   ]
  },
  {
   "cell_type": "code",
   "execution_count": 6,
   "id": "0c25bdb7-4856-4ff7-bfd1-d0a1659c415f",
   "metadata": {},
   "outputs": [],
   "source": [
    "\n",
    "# setup pipeline model\n",
    "pipe = pipeline(\"text-generation\",\n",
    "        model=\"Qwen/Qwen2.5-0.5B\", \n",
    "        device_map=\"auto\",\n",
    "        max_new_tokens=256,\n",
    "        temperature=0.3,\n",
    "       )\n",
    "\n",
    "query = 'How can I handle sadness and lonely?'\n"
   ]
  },
  {
   "cell_type": "code",
   "execution_count": 24,
   "id": "5ad1262b-d667-4259-9450-9338078f5f9d",
   "metadata": {},
   "outputs": [],
   "source": [
    "def dense_search(query,k=2):\n",
    "    return vectorstore.similarity_search_with_score(query, k=k,)\n",
    "   \n",
    "ans = dense_search(query,5)"
   ]
  },
  {
   "cell_type": "code",
   "execution_count": 8,
   "id": "530b7bfc-aa2d-4e49-b52e-fce85229edd9",
   "metadata": {},
   "outputs": [
    {
     "data": {
      "text/plain": [
       "3633"
      ]
     },
     "execution_count": 8,
     "metadata": {},
     "output_type": "execute_result"
    }
   ],
   "source": [
    "ans[0][0].metadata['id']"
   ]
  },
  {
   "cell_type": "code",
   "execution_count": 9,
   "id": "bd2d800f-28f7-4f3e-9b61-4305a10cbd0d",
   "metadata": {},
   "outputs": [],
   "source": [
    "##     \"content\": \"You are a professional life coach, offering personalized advice in different areas such as work, communication, hobbies, and lifestyle. It will provide suggestions to improve mood, recommend fun activities, and inspire productivity  \",\n",
    "\n",
    "prompt_template = \"\"\"\n",
    "To answer QUESTION Use only the facts from the CONTEXT when answering the QUESTION.\n",
    "Read CONTEXT carefully to learn and give an accurate answer without hallucinations.\n",
    "In the CONTEXT you will have emojis and action help you to understand the text and use it.\n",
    "\n",
    "QUESTION: \n",
    "'''{question}'''\n",
    "\n",
    "CONTEXT:\n",
    "'''{context}'''\n",
    "\n",
    "\n",
    "\n",
    "\n",
    "\"\"\".strip()\n",
    "\n",
    "entry_template = \"\"\"\n",
    "emoji: {emoji}\n",
    "action: {action}\n",
    "dailog: {text}\n",
    "\"\"\".strip()\n",
    "\n",
    "def build_prompt(query, search_results):\n",
    "    context = \"\"\n",
    "    \n",
    "    for doc in search_results:\n",
    "        context = context + entry_template.format(emoji = doc[0].metadata['emoji'],\n",
    "                                                  action = doc[0].metadata['action'],\n",
    "                                                  text = doc[0].page_content) +'\\n\\n'\n",
    "\n",
    "    prompt = prompt_template.format(question=query, context=context).strip()\n",
    "    return prompt"
   ]
  },
  {
   "cell_type": "code",
   "execution_count": 10,
   "id": "0ae4855e-3478-4a36-b05e-29c91a419ffc",
   "metadata": {},
   "outputs": [],
   "source": [
    "def llm(prompt):\n",
    "    messages = [\n",
    "    {\"role\"   : \"system\",\n",
    "     \"content\": \"You are a professional life coach, offering personalized advice in different areas such as work, communication, hobbies, and lifestyle. It will provide suggestions to improve mood, recommend fun activities, and inspire productivity. Answer the QUESTION based on the CONTEXT come from the user role. \",\n",
    "      \"role\": \"user\", \n",
    "     \"content\": prompt,\n",
    "   \n",
    "    }\n",
    "                ]\n",
    "    return pipe(messages)[0]['generated_text'][1]['content']\n",
    "    \n"
   ]
  },
  {
   "cell_type": "code",
   "execution_count": 11,
   "id": "2147550d-7dff-4a88-8ba9-825dbebddbf6",
   "metadata": {},
   "outputs": [],
   "source": [
    "def rag(query):\n",
    "    search_results = dense_search(query,k=1)\n",
    "    prompt = build_prompt(query, search_results)\n",
    "    answer = llm(prompt)\n",
    "    return answer"
   ]
  },
  {
   "cell_type": "code",
   "execution_count": 12,
   "id": "fe79ba98-ba4b-493f-84c4-9ccd000fb689",
   "metadata": {},
   "outputs": [
    {
     "name": "stdout",
     "output_type": "stream",
     "text": [
      "To handle sadness and loneliness, you can try the following:\n",
      "\n",
      "1. Stay in touch with your loved ones: Reach out to your family and friends to express your feelings and share your thoughts. You can also consider visiting them in person or sending them messages to express your love and support.\n",
      "\n",
      "2. Engage in activities that bring you joy: Participate in activities that bring you pleasure and relaxation, such as reading, watching movies, or playing games. This can help you feel more connected to the world around you.\n",
      "\n",
      "3. Practice self-care: Take care of your physical and mental health by getting enough sleep, eating a healthy diet, and engaging in regular exercise. This can help you feel more relaxed and centered.\n",
      "\n",
      "4. Connect with others: Join a support group or community where you can connect with others who share similar experiences. This can provide a sense of belonging and help you feel less alone.\n",
      "\n",
      "5. Seek professional help: If you are struggling with feelings of sadness and loneliness, consider seeking professional help from a therapist or counselor. They can provide you with tools and techniques to manage your emotions and improve your overall well-being.\n"
     ]
    }
   ],
   "source": [
    "query = 'How can I handle sadness and lonely?'\n",
    "answer = rag(query)\n",
    "print(answer)"
   ]
  },
  {
   "cell_type": "markdown",
   "id": "4bba8b6d-b448-4fef-a445-e154ee22b5e5",
   "metadata": {},
   "source": [
    "## Retrieval evaluation"
   ]
  },
  {
   "cell_type": "code",
   "execution_count": 26,
   "id": "fd83c286-b31f-477b-87f5-2b749bb95631",
   "metadata": {},
   "outputs": [],
   "source": [
    "df_question = pd.read_csv('../data/ground_truth_llm.csv')"
   ]
  },
  {
   "cell_type": "code",
   "execution_count": 27,
   "id": "33da38c3-02fd-493f-939b-dcbb3b066b87",
   "metadata": {},
   "outputs": [
    {
     "data": {
      "text/plain": [
       "{'id': 8777,\n",
       " 'text': \"I want to buy a rain coat . Could you please show me one ?   With pleasure . What color do you like ?   I like yellow best . How much does it cost ?   It costs 275 yuan , Miss .   It's nice , but that's very steep for a rain coat . Could you give me a 20 percent discount ?   Sorry , we don't give discounts .   In that case , I don't think I'll buy one here . \",\n",
       " 'emoji': ' sadness ',\n",
       " 'action': ' directive , commissive , question , inform ',\n",
       " 'questions': 'What is your favorite color?',\n",
       " 'answers': 'Yellow'}"
      ]
     },
     "execution_count": 27,
     "metadata": {},
     "output_type": "execute_result"
    }
   ],
   "source": [
    "ground_truth = df_question.to_dict(orient='records')\n",
    "\n",
    "ground_truth[0]\n"
   ]
  },
  {
   "cell_type": "code",
   "execution_count": 28,
   "id": "4d46dbc2-42ee-4f92-b67b-cece722e18c3",
   "metadata": {},
   "outputs": [],
   "source": [
    "def hit_rate(relevance_total):\n",
    "    cnt = 0\n",
    "\n",
    "    for line in relevance_total:\n",
    "        if True in line:\n",
    "            cnt = cnt + 1\n",
    "\n",
    "    return cnt / len(relevance_total)\n",
    "\n",
    "def mrr(relevance_total):\n",
    "    total_score = 0.0\n",
    "\n",
    "    for line in relevance_total:\n",
    "        for rank in range(len(line)):\n",
    "            if line[rank] == True:\n",
    "                total_score = total_score + 1 / (rank + 1)\n",
    "\n",
    "    return total_score / len(relevance_total)"
   ]
  },
  {
   "cell_type": "code",
   "execution_count": 29,
   "id": "d7c41041-22e8-4abd-a616-aaddd8df4de1",
   "metadata": {},
   "outputs": [],
   "source": [
    "def evaluate(ground_truth, search_function):\n",
    "    relevance_total = []\n",
    "\n",
    "    for q in tqdm(ground_truth):\n",
    "        doc_id = q['id']\n",
    "        results = search_function(q)\n",
    "        relevance = [d[0].metadata['id'] == doc_id for d in results]\n",
    "        relevance_total.append(relevance)\n",
    "\n",
    "    return {\n",
    "        'hit_rate': hit_rate(relevance_total),\n",
    "        'mrr': mrr(relevance_total),\n",
    "    }"
   ]
  },
  {
   "cell_type": "code",
   "execution_count": 30,
   "id": "1a1da68f-054a-4f3a-b611-f3f3f540ba72",
   "metadata": {},
   "outputs": [
    {
     "data": {
      "application/vnd.jupyter.widget-view+json": {
       "model_id": "f3af14d25d7a44878d87ef6af01f4e48",
       "version_major": 2,
       "version_minor": 0
      },
      "text/plain": [
       "  0%|          | 0/486 [00:00<?, ?it/s]"
      ]
     },
     "metadata": {},
     "output_type": "display_data"
    },
    {
     "data": {
      "text/plain": [
       "{'hit_rate': 0.551440329218107, 'mrr': 0.34501926971062763}"
      ]
     },
     "execution_count": 30,
     "metadata": {},
     "output_type": "execute_result"
    }
   ],
   "source": [
    "evaluate(ground_truth, lambda q: dense_search(q['questions'],k = 10))"
   ]
  },
  {
   "cell_type": "markdown",
   "id": "38e91ee8-0b7c-4ea2-9858-4b1b43119b77",
   "metadata": {},
   "source": [
    "{'hit_rate': 0.595, 'mrr': 0.4790103174603172}\n"
   ]
  },
  {
   "cell_type": "code",
   "execution_count": 33,
   "id": "e51d4971-8942-434c-854c-5b46169175d7",
   "metadata": {},
   "outputs": [],
   "source": [
    "from langchain.retrievers import BM25Retriever\n",
    "\n",
    "# Initialize BM25 retriever\n",
    "bm25_retriever = BM25Retriever.from_documents(docs)\n",
    "\n",
    "def hybrid_search( query, k=10):\n",
    "    # Perform dense retrieval using FAISS (which returns tuples of (Document, score))\n",
    "    dense_results = vectorstore.similarity_search_with_score(query, k=k)\n",
    "\n",
    "    # Perform sparse retrieval using BM25 (which may return only Document objects)\n",
    "    sparse_docs = bm25_retriever.get_relevant_documents(query)\n",
    "    \n",
    "    # Assign a default score to the sparse results, e.g., BM25 doesn't return a score\n",
    "    sparse_results = [(doc, 1.0) for doc in sparse_docs]  # Assuming default score is 1.0\n",
    "    \n",
    "    # Combine the results\n",
    "    combined_results = dense_results + sparse_results\n",
    "\n",
    "    # Sort by score (assuming higher score is better)\n",
    "    combined_results.sort(key=lambda x: x[1], reverse=True)\n",
    "\n",
    "    # Return the top k results\n",
    "    return combined_results[:k]\n",
    "\n"
   ]
  },
  {
   "cell_type": "code",
   "execution_count": 35,
   "id": "f19f4232-1940-4f40-90e4-173e60b69991",
   "metadata": {},
   "outputs": [
    {
     "data": {
      "application/vnd.jupyter.widget-view+json": {
       "model_id": "332056ce311741c5a1fa3563c6a414a4",
       "version_major": 2,
       "version_minor": 0
      },
      "text/plain": [
       "  0%|          | 0/486 [00:00<?, ?it/s]"
      ]
     },
     "metadata": {},
     "output_type": "display_data"
    },
    {
     "data": {
      "text/plain": [
       "{'hit_rate': 0.4670781893004115, 'mrr': 0.1531999150826312}"
      ]
     },
     "execution_count": 35,
     "metadata": {},
     "output_type": "execute_result"
    }
   ],
   "source": [
    "evaluate(ground_truth, lambda q: hybrid_search(q['questions'],k = 10))"
   ]
  },
  {
   "cell_type": "code",
   "execution_count": 36,
   "id": "e29c7cff-fefa-4960-b4bd-1db1697423db",
   "metadata": {},
   "outputs": [],
   "source": [
    "def sparse_search( query, k=10):\n",
    "\n",
    "    # Perform sparse retrieval using BM25 (which may return only Document objects)\n",
    "    sparse_docs = bm25_retriever.get_relevant_documents(query)\n",
    "    \n",
    "    # Assign a default score to the sparse results, e.g., BM25 doesn't return a score\n",
    "    sparse_results = [(doc,1) for doc in sparse_docs]  # Assuming default score is 1.0\n",
    "    \n",
    "    \n",
    "    return sparse_results\n"
   ]
  },
  {
   "cell_type": "code",
   "execution_count": 38,
   "id": "9a1b91f0-65c7-41bb-8287-38530b4b96b6",
   "metadata": {},
   "outputs": [
    {
     "data": {
      "application/vnd.jupyter.widget-view+json": {
       "model_id": "fd088d33ea5b4ab08e03ade27f5dbdbd",
       "version_major": 2,
       "version_minor": 0
      },
      "text/plain": [
       "  0%|          | 0/486 [00:00<?, ?it/s]"
      ]
     },
     "metadata": {},
     "output_type": "display_data"
    },
    {
     "data": {
      "text/plain": [
       "{'hit_rate': 0.411522633744856, 'mrr': 0.3323045267489712}"
      ]
     },
     "execution_count": 38,
     "metadata": {},
     "output_type": "execute_result"
    }
   ],
   "source": [
    "evaluate(ground_truth, lambda q: sparse_search(q['questions'],k = 10))"
   ]
  },
  {
   "cell_type": "code",
   "execution_count": null,
   "id": "58c9a0f4-7cb4-434a-9447-87f7903bec40",
   "metadata": {},
   "outputs": [],
   "source": [
    "#!python3.10 -m pip install rank_bm25"
   ]
  },
  {
   "cell_type": "markdown",
   "id": "50529bbd-df72-4435-b2ba-0d8e273cc139",
   "metadata": {},
   "source": [
    "{'hit_rate': 0.677, 'mrr': 0.2571920634920627}\n",
    "\n",
    "note:- big improvement in hit_rate using hybrid_search\n"
   ]
  },
  {
   "cell_type": "markdown",
   "id": "601f1f63-b2e1-4253-a2fb-0fec36c1f325",
   "metadata": {},
   "source": [
    "{'hit_rate': 0.786, 'mrr': 0.7405}\n",
    "\r",
    "wow that is best result for now at all when use only sparse retrieval\n"
   ]
  },
  {
   "cell_type": "markdown",
   "id": "eef13231-c89c-430e-9155-77175d4d8be2",
   "metadata": {},
   "source": [
    " so let's replace the search part in rag function"
   ]
  },
  {
   "cell_type": "code",
   "execution_count": 39,
   "id": "1f527574-19b2-449b-96a9-03471c1d6002",
   "metadata": {},
   "outputs": [],
   "source": [
    "def rag_updated(query):\n",
    "    search_results = sparse_search(query,k=3)\n",
    "    prompt = build_prompt(query, search_results)\n",
    "    answer = llm(prompt)\n",
    "    return answer"
   ]
  },
  {
   "cell_type": "code",
   "execution_count": 40,
   "id": "bb727891-8eae-4eeb-abb3-be27dcfc0364",
   "metadata": {},
   "outputs": [
    {
     "name": "stdout",
     "output_type": "stream",
     "text": [
      "To handle sadness and loneliness, you can try the following:\n",
      "\n",
      "1. Stay in touch with your loved ones: Reach out to your family and friends to express your feelings and share your thoughts. You can also consider visiting them in person or sending them messages to express your love and support.\n",
      "\n",
      "2. Engage in activities that bring you joy: Participate in activities that bring you pleasure and relaxation, such as reading, watching movies, or playing games. This can help you feel more connected to the world around you.\n",
      "\n",
      "3. Practice self-care: Take care of your physical and mental health by getting enough sleep, eating a healthy diet, and engaging in regular exercise. This can help you feel more relaxed and centered.\n",
      "\n",
      "4. Connect with others: Join a support group or community where you can connect with others who share similar experiences. This can provide a sense of belonging and help you feel less alone.\n",
      "\n",
      "5. Seek professional help: If you are struggling with feelings of sadness and loneliness, consider seeking professional help from a therapist or counselor. They can provide you with tools and techniques to manage your emotions and improve your overall well-being.\n"
     ]
    }
   ],
   "source": [
    "query = 'How can I handle sadness and lonely?'\n",
    "answer = rag(query)\n",
    "print(answer)"
   ]
  },
  {
   "cell_type": "markdown",
   "id": "d4e2f102-9650-460f-bd35-7a03cd8f809e",
   "metadata": {},
   "source": [
    "## RAG evaluation"
   ]
  },
  {
   "cell_type": "code",
   "execution_count": 41,
   "id": "eed40461-8278-4288-9713-9f785433b3ec",
   "metadata": {},
   "outputs": [
    {
     "data": {
      "text/plain": [
       "[{'generated_text': [{'role': 'user', 'content': 'Who are you?'},\n",
       "   {'role': 'assistant',\n",
       "    'content': 'I am Qwen, a large language model created by Alibaba Cloud. I am designed to understand and respond to natural human language queries in various domains such as science, technology, history, literature, etc., based on the context provided by users. I can also engage in conversation with humans about topics of interest to me. My purpose is to provide information and insights that are relevant and useful to those who interact with me. If you have any questions or need assistance, feel free to ask!'}]}]"
      ]
     },
     "execution_count": 41,
     "metadata": {},
     "output_type": "execute_result"
    }
   ],
   "source": [
    "# Use a pipeline as a high-level helper\n",
    "from transformers import pipeline\n",
    "\n",
    "messages = [\n",
    "    {\"role\": \"user\", \"content\": \"Who are you?\"},\n",
    "]\n",
    "llm2 = pipeline(\"text-generation\",\n",
    "                model=\"Qwen/Qwen2.5-0.5B-Instruct\", \n",
    "                device_map=\"auto\",\n",
    "                max_new_tokens=256,\n",
    "                temperature=0.3,)\n",
    "llm2(messages)"
   ]
  },
  {
   "cell_type": "code",
   "execution_count": 42,
   "id": "0f0e628f-247b-46e6-9941-8e397b64b56e",
   "metadata": {},
   "outputs": [],
   "source": [
    "prompt2_template = \"\"\"\n",
    "You are an expert evaluator for a RAG system.\n",
    "Your task is to analyze the relevance of the generated answer to the given question.\n",
    "Based on the relevance of the generated answer, you will classify it\n",
    "as \"NON_RELEVANT\", \"PARTLY_RELEVANT\", or \"RELEVANT\".\n",
    "\n",
    "Here is the data for evaluation:\n",
    "\n",
    "Question: {query}\n",
    "Generated Answer: {answer_llm}\n",
    "\n",
    "Please analyze the content and context of the generated answer in relation to the question\n",
    "and provide your evaluation in parsable JSON without using code blocks:\n",
    "\n",
    "{{\n",
    "  \"Relevance\": \"NON_RELEVANT\" | \"PARTLY_RELEVANT\" | \"RELEVANT\",\n",
    "  \"Explanation\": \"[Provide a brief explanation for your evaluation]\"\n",
    "}}\n",
    "\"\"\".strip()"
   ]
  },
  {
   "cell_type": "code",
   "execution_count": 43,
   "id": "6b95be2d-de97-498e-9685-6b28975fbb98",
   "metadata": {},
   "outputs": [
    {
     "data": {
      "text/plain": [
       "486"
      ]
     },
     "execution_count": 43,
     "metadata": {},
     "output_type": "execute_result"
    }
   ],
   "source": [
    "len(ground_truth)"
   ]
  },
  {
   "cell_type": "code",
   "execution_count": 44,
   "id": "f6368eb0-f856-410a-a04f-d299d4d67f0a",
   "metadata": {},
   "outputs": [],
   "source": [
    "record = ground_truth[0]"
   ]
  },
  {
   "cell_type": "code",
   "execution_count": 51,
   "id": "f3bca298-23c5-4f53-a174-33fc98388aed",
   "metadata": {},
   "outputs": [
    {
     "name": "stdout",
     "output_type": "stream",
     "text": [
      "What is your favorite color?\n"
     ]
    }
   ],
   "source": [
    "print(record['questions'])"
   ]
  },
  {
   "cell_type": "code",
   "execution_count": 52,
   "id": "838f2c95-2720-4345-aa6a-4ff4c059fdc7",
   "metadata": {},
   "outputs": [],
   "source": [
    "answer_llm = rag(record['questions'])"
   ]
  },
  {
   "cell_type": "code",
   "execution_count": 53,
   "id": "cab55c12-fef8-464d-b71b-6e89ec7f9dab",
   "metadata": {},
   "outputs": [
    {
     "data": {
      "text/plain": [
       "'The answer to the question is: orange.'"
      ]
     },
     "execution_count": 53,
     "metadata": {},
     "output_type": "execute_result"
    }
   ],
   "source": [
    "answer_llm"
   ]
  },
  {
   "cell_type": "code",
   "execution_count": 55,
   "id": "e9db9e2c-a377-4870-80ee-d2f2325d9eb4",
   "metadata": {},
   "outputs": [
    {
     "name": "stdout",
     "output_type": "stream",
     "text": [
      "You are an expert evaluator for a RAG system.\n",
      "Your task is to analyze the relevance of the generated answer to the given question.\n",
      "Based on the relevance of the generated answer, you will classify it\n",
      "as \"NON_RELEVANT\", \"PARTLY_RELEVANT\", or \"RELEVANT\".\n",
      "\n",
      "Here is the data for evaluation:\n",
      "\n",
      "Question: What is your favorite color?\n",
      "Generated Answer: The answer to the question is: orange.\n",
      "\n",
      "Please analyze the content and context of the generated answer in relation to the question\n",
      "and provide your evaluation in parsable JSON without using code blocks:\n",
      "\n",
      "{\n",
      "  \"Relevance\": \"NON_RELEVANT\" | \"PARTLY_RELEVANT\" | \"RELEVANT\",\n",
      "  \"Explanation\": \"[Provide a brief explanation for your evaluation]\"\n",
      "}\n"
     ]
    }
   ],
   "source": [
    "prompt = prompt2_template.format(query=record['questions'], answer_llm=answer_llm)\n",
    "print(prompt)"
   ]
  },
  {
   "cell_type": "code",
   "execution_count": 56,
   "id": "a0df0640-7ab2-4f0e-910a-e2484f3b13ad",
   "metadata": {},
   "outputs": [],
   "source": [
    "def eval_llm(prompt):\n",
    "    messages = [\n",
    "    {    \"role\": \"user\", \n",
    "     \"content\": prompt,\n",
    "   \n",
    "    }\n",
    "                ]\n",
    "    return llm2(messages)[0]['generated_text'][1]['content']"
   ]
  },
  {
   "cell_type": "code",
   "execution_count": 57,
   "id": "35879e1d-3f34-41c8-ad14-3cc6d90a6cfd",
   "metadata": {},
   "outputs": [
    {
     "data": {
      "text/html": [
       "<div>\n",
       "<style scoped>\n",
       "    .dataframe tbody tr th:only-of-type {\n",
       "        vertical-align: middle;\n",
       "    }\n",
       "\n",
       "    .dataframe tbody tr th {\n",
       "        vertical-align: top;\n",
       "    }\n",
       "\n",
       "    .dataframe thead th {\n",
       "        text-align: right;\n",
       "    }\n",
       "</style>\n",
       "<table border=\"1\" class=\"dataframe\">\n",
       "  <thead>\n",
       "    <tr style=\"text-align: right;\">\n",
       "      <th></th>\n",
       "      <th>id</th>\n",
       "      <th>text</th>\n",
       "      <th>emoji</th>\n",
       "      <th>action</th>\n",
       "      <th>questions</th>\n",
       "      <th>answers</th>\n",
       "    </tr>\n",
       "  </thead>\n",
       "  <tbody>\n",
       "    <tr>\n",
       "      <th>0</th>\n",
       "      <td>8777</td>\n",
       "      <td>I want to buy a rain coat . Could you please s...</td>\n",
       "      <td>sadness</td>\n",
       "      <td>directive , commissive , question , inform</td>\n",
       "      <td>What is your favorite color?</td>\n",
       "      <td>Yellow</td>\n",
       "    </tr>\n",
       "    <tr>\n",
       "      <th>1</th>\n",
       "      <td>8777</td>\n",
       "      <td>I want to buy a rain coat . Could you please s...</td>\n",
       "      <td>sadness</td>\n",
       "      <td>directive , commissive , question , inform</td>\n",
       "      <td>How much would you like to pay for the raincoat?</td>\n",
       "      <td>$275</td>\n",
       "    </tr>\n",
       "    <tr>\n",
       "      <th>2</th>\n",
       "      <td>8777</td>\n",
       "      <td>I want to buy a rain coat . Could you please s...</td>\n",
       "      <td>sadness</td>\n",
       "      <td>directive , commissive , question , inform</td>\n",
       "      <td>Would you like a 20% discount?</td>\n",
       "      <td>Sorry, we don't offer any discounts.</td>\n",
       "    </tr>\n",
       "    <tr>\n",
       "      <th>3</th>\n",
       "      <td>7369</td>\n",
       "      <td>Both of the two young ladies are the candidate...</td>\n",
       "      <td>no emotion</td>\n",
       "      <td>directive , question , inform</td>\n",
       "      <td>Which candidate do you prefer? (tall or short)</td>\n",
       "      <td>I should take the taller one.</td>\n",
       "    </tr>\n",
       "    <tr>\n",
       "      <th>4</th>\n",
       "      <td>1247</td>\n",
       "      <td>Who wants to go first ? Allen ?   Uh ... I mos...</td>\n",
       "      <td>no emotion</td>\n",
       "      <td>directive , commissive</td>\n",
       "      <td>Who wants to go first?</td>\n",
       "      <td>Allen</td>\n",
       "    </tr>\n",
       "  </tbody>\n",
       "</table>\n",
       "</div>"
      ],
      "text/plain": [
       "     id                                               text       emoji  \\\n",
       "0  8777  I want to buy a rain coat . Could you please s...    sadness    \n",
       "1  8777  I want to buy a rain coat . Could you please s...    sadness    \n",
       "2  8777  I want to buy a rain coat . Could you please s...    sadness    \n",
       "3  7369  Both of the two young ladies are the candidate...  no emotion   \n",
       "4  1247  Who wants to go first ? Allen ?   Uh ... I mos...  no emotion   \n",
       "\n",
       "                                         action  \\\n",
       "0   directive , commissive , question , inform    \n",
       "1   directive , commissive , question , inform    \n",
       "2   directive , commissive , question , inform    \n",
       "3                directive , question , inform    \n",
       "4                       directive , commissive    \n",
       "\n",
       "                                          questions  \\\n",
       "0                      What is your favorite color?   \n",
       "1  How much would you like to pay for the raincoat?   \n",
       "2                    Would you like a 20% discount?   \n",
       "3    Which candidate do you prefer? (tall or short)   \n",
       "4                            Who wants to go first?   \n",
       "\n",
       "                                answers  \n",
       "0                                Yellow  \n",
       "1                                  $275  \n",
       "2  Sorry, we don't offer any discounts.  \n",
       "3         I should take the taller one.  \n",
       "4                                 Allen  "
      ]
     },
     "execution_count": 57,
     "metadata": {},
     "output_type": "execute_result"
    }
   ],
   "source": [
    "df_question.head()"
   ]
  },
  {
   "cell_type": "code",
   "execution_count": 76,
   "id": "9362b327-923f-429d-adf5-2761e0d07361",
   "metadata": {},
   "outputs": [
    {
     "data": {
      "application/vnd.jupyter.widget-view+json": {
       "model_id": "5c698ea5fb9e4df29a8d8f039c681445",
       "version_major": 2,
       "version_minor": 0
      },
      "text/plain": [
       "  0%|          | 0/106 [00:00<?, ?it/s]"
      ]
     },
     "metadata": {},
     "output_type": "display_data"
    }
   ],
   "source": [
    "import json\n",
    "import re\n",
    "\n",
    "\n",
    "df_sample = df_question.sample(n=106, random_state=1)\n",
    "\n",
    "sample = df_sample.to_dict(orient='records')\n",
    "\n",
    "evaluations = []\n",
    "\n",
    "for record in tqdm(sample):\n",
    "    question = record['questions']\n",
    "    #answer_llm = rag_updated(question) \n",
    "    answer_llm = rag(question) \n",
    "    right_answer = record['answers']\n",
    "    id = record['id']\n",
    "    prompt = prompt2_template.format(query=question, answer_llm=answer_llm)\n",
    "\n",
    "    evaluation = eval_llm(prompt)\n",
    "    match = re.search(r'```json(.*?)```', evaluation, re.DOTALL)\n",
    "\n",
    "    if match:\n",
    "        extracted_content = match.group(1).strip()  # Extract the content and remove leading/trailing whitespace\n",
    "        #print(extracted_content)\n",
    "    else:\n",
    "   \n",
    "        extracted_content = evaluation  # Extract the content and remove leading/trailing whitespace\n",
    "   \n",
    "\n",
    "    try:\n",
    "        evaluation = json.loads(extracted_content)\n",
    "    except:\n",
    "        continue\n",
    "\n",
    "    evaluations.append((id,record,right_answer, answer_llm, evaluation))\n",
    "\n"
   ]
  },
  {
   "cell_type": "code",
   "execution_count": 77,
   "id": "d47960f5-0a77-4414-9579-d885351dc914",
   "metadata": {},
   "outputs": [],
   "source": [
    "df_eval = pd.DataFrame(evaluations, columns=['id','record','right_answer' ,'llm_answer', 'evaluation'])\n",
    "\n",
    "df_eval['id'] = df_eval.record.apply(lambda d: d['id'])\n",
    "df_eval['question'] = df_eval.record.apply(lambda d: d['questions'])\n",
    "\n",
    "df_eval['relevance'] = df_eval.evaluation.apply(lambda d: d['Relevance'])\n",
    "df_eval['explanation'] = df_eval.evaluation.apply(lambda d: d['Explanation'])\n",
    "\n",
    "del df_eval['record']\n",
    "del df_eval['evaluation']"
   ]
  },
  {
   "cell_type": "code",
   "execution_count": 84,
   "id": "7953be5d-d8a1-43c8-b3e0-1b69ed1f8a63",
   "metadata": {},
   "outputs": [
    {
     "data": {
      "text/plain": [
       "relevance\n",
       "PARTLY_RELEVANT    98\n",
       "RELEVANT            6\n",
       "NON_RELEVANT        1\n",
       "Name: count, dtype: int64"
      ]
     },
     "execution_count": 84,
     "metadata": {},
     "output_type": "execute_result"
    }
   ],
   "source": [
    "df_eval.relevance.value_counts()"
   ]
  },
  {
   "cell_type": "code",
   "execution_count": 78,
   "id": "314c3cd5-0de2-4cd2-9c7b-8ccbb5bac4b2",
   "metadata": {},
   "outputs": [
    {
     "data": {
      "text/plain": [
       "relevance\n",
       "PARTLY_RELEVANT    0.933333\n",
       "RELEVANT           0.057143\n",
       "NON_RELEVANT       0.009524\n",
       "Name: proportion, dtype: float64"
      ]
     },
     "execution_count": 78,
     "metadata": {},
     "output_type": "execute_result"
    }
   ],
   "source": [
    "df_eval.relevance.value_counts(normalize=True)"
   ]
  },
  {
   "cell_type": "code",
   "execution_count": 79,
   "id": "32171a4b-47ae-44dd-8c8d-78f6d409339a",
   "metadata": {},
   "outputs": [
    {
     "data": {
      "text/html": [
       "<div>\n",
       "<style scoped>\n",
       "    .dataframe tbody tr th:only-of-type {\n",
       "        vertical-align: middle;\n",
       "    }\n",
       "\n",
       "    .dataframe tbody tr th {\n",
       "        vertical-align: top;\n",
       "    }\n",
       "\n",
       "    .dataframe thead th {\n",
       "        text-align: right;\n",
       "    }\n",
       "</style>\n",
       "<table border=\"1\" class=\"dataframe\">\n",
       "  <thead>\n",
       "    <tr style=\"text-align: right;\">\n",
       "      <th></th>\n",
       "      <th>id</th>\n",
       "      <th>right_answer</th>\n",
       "      <th>llm_answer</th>\n",
       "      <th>question</th>\n",
       "      <th>relevance</th>\n",
       "      <th>explanation</th>\n",
       "    </tr>\n",
       "  </thead>\n",
       "  <tbody>\n",
       "    <tr>\n",
       "      <th>0</th>\n",
       "      <td>3334</td>\n",
       "      <td>Difficult</td>\n",
       "      <td>The difficulty level of the par four hole is m...</td>\n",
       "      <td>What is the difficulty level of the par four h...</td>\n",
       "      <td>PARTLY_RELEVANT</td>\n",
       "      <td>The generated answer provides information abou...</td>\n",
       "    </tr>\n",
       "    <tr>\n",
       "      <th>1</th>\n",
       "      <td>9711</td>\n",
       "      <td>I'd really like a salad with chicken.</td>\n",
       "      <td>Yes, I would like a chicken salad. I enjoy chi...</td>\n",
       "      <td>What kind of salad would you like?</td>\n",
       "      <td>PARTLY_RELEVANT</td>\n",
       "      <td>The generated answer provides information abou...</td>\n",
       "    </tr>\n",
       "    <tr>\n",
       "      <th>2</th>\n",
       "      <td>2423</td>\n",
       "      <td>Bryan got kicked out of class</td>\n",
       "      <td>The teacher kicked out the student from class ...</td>\n",
       "      <td>Who was kicked out of class?</td>\n",
       "      <td>PARTLY_RELEVANT</td>\n",
       "      <td>The generated answer provides information abou...</td>\n",
       "    </tr>\n",
       "    <tr>\n",
       "      <th>3</th>\n",
       "      <td>43</td>\n",
       "      <td>Poor girl!</td>\n",
       "      <td>Yes, it's so exciting, though I had the most f...</td>\n",
       "      <td>How did you feel after skiing on and on excite...</td>\n",
       "      <td>PARTLY_RELEVANT</td>\n",
       "      <td>The generated answer provides some details abo...</td>\n",
       "    </tr>\n",
       "    <tr>\n",
       "      <th>4</th>\n",
       "      <td>8730</td>\n",
       "      <td>I think the four days' tour from New York to A...</td>\n",
       "      <td>Yes, I am interested in the route. I am planni...</td>\n",
       "      <td>Which route are you interested in?</td>\n",
       "      <td>PARTLY_RELEVANT</td>\n",
       "      <td>The generated answer provides information abou...</td>\n",
       "    </tr>\n",
       "  </tbody>\n",
       "</table>\n",
       "</div>"
      ],
      "text/plain": [
       "     id                                       right_answer  \\\n",
       "0  3334                                          Difficult   \n",
       "1  9711              I'd really like a salad with chicken.   \n",
       "2  2423                      Bryan got kicked out of class   \n",
       "3    43                                         Poor girl!   \n",
       "4  8730  I think the four days' tour from New York to A...   \n",
       "\n",
       "                                          llm_answer  \\\n",
       "0  The difficulty level of the par four hole is m...   \n",
       "1  Yes, I would like a chicken salad. I enjoy chi...   \n",
       "2  The teacher kicked out the student from class ...   \n",
       "3  Yes, it's so exciting, though I had the most f...   \n",
       "4  Yes, I am interested in the route. I am planni...   \n",
       "\n",
       "                                            question        relevance  \\\n",
       "0  What is the difficulty level of the par four h...  PARTLY_RELEVANT   \n",
       "1                 What kind of salad would you like?  PARTLY_RELEVANT   \n",
       "2                       Who was kicked out of class?  PARTLY_RELEVANT   \n",
       "3  How did you feel after skiing on and on excite...  PARTLY_RELEVANT   \n",
       "4                 Which route are you interested in?  PARTLY_RELEVANT   \n",
       "\n",
       "                                         explanation  \n",
       "0  The generated answer provides information abou...  \n",
       "1  The generated answer provides information abou...  \n",
       "2  The generated answer provides information abou...  \n",
       "3  The generated answer provides some details abo...  \n",
       "4  The generated answer provides information abou...  "
      ]
     },
     "execution_count": 79,
     "metadata": {},
     "output_type": "execute_result"
    }
   ],
   "source": [
    "df_eval.head()"
   ]
  },
  {
   "cell_type": "markdown",
   "id": "5f85bac4-a10f-4819-9fe4-ea566ab4607b",
   "metadata": {},
   "source": [
    "All answers PARTLY_RELEVANT using Qwen2.5-0.5B-Instruct llm i understand that because the ground_truth data is not good enough it's created form last 2 sentences from dialog as a question and it's answer so let's try another way using cosine similarity"
   ]
  },
  {
   "cell_type": "code",
   "execution_count": 80,
   "id": "4203630d-f558-45d5-892b-cb9ea38df17c",
   "metadata": {},
   "outputs": [
    {
     "data": {
      "application/vnd.jupyter.widget-view+json": {
       "model_id": "ee856ceb9d534eac8b1467edc5ad8e07",
       "version_major": 2,
       "version_minor": 0
      },
      "text/plain": [
       "  0%|          | 0/105 [00:00<?, ?it/s]"
      ]
     },
     "metadata": {},
     "output_type": "display_data"
    }
   ],
   "source": [
    "for index, row in tqdm(df_eval.iterrows(), total=len(df_eval)):\n",
    "    llm_answer = embeddings.embed_documents([row['llm_answer']])\n",
    "    right_answer = embeddings.embed_documents([row['right_answer']])\n",
    "    df_eval.loc[index,'cosine_score'] =  cosine_similarity(llm_answer, right_answer)[0][0] \n",
    "    #print( cosine_similarity(llm_answer, right_answer)[0][0] )"
   ]
  },
  {
   "cell_type": "code",
   "execution_count": 81,
   "id": "e18c632c-1d79-4212-91e6-c59e51bcdd27",
   "metadata": {},
   "outputs": [
    {
     "data": {
      "text/plain": [
       "count    105.000000\n",
       "mean       0.349225\n",
       "std        0.203658\n",
       "min        0.001049\n",
       "25%        0.205719\n",
       "50%        0.341583\n",
       "75%        0.460972\n",
       "max        1.000000\n",
       "Name: cosine_score, dtype: float64"
      ]
     },
     "execution_count": 81,
     "metadata": {},
     "output_type": "execute_result"
    }
   ],
   "source": [
    "df_eval.cosine_score.describe()"
   ]
  },
  {
   "cell_type": "code",
   "execution_count": 85,
   "id": "4cb4eeda-f9e6-4469-b1e2-d44581d034d6",
   "metadata": {},
   "outputs": [
    {
     "data": {
      "image/png": "[encoded data removed]",
      "text/plain": [
       "<Figure size 1000x600 with 1 Axes>"
      ]
     },
     "metadata": {},
     "output_type": "display_data"
    }
   ],
   "source": [
    "import matplotlib.pyplot as plt\n",
    "import seaborn as sns\n",
    "\n",
    "# Assuming df_eval is your DataFrame and you want to plot a column's distribution\n",
    "# Replace 'column_name' with the actual column you want to visualize\n",
    "series = df_eval['cosine_score']\n",
    "\n",
    "# Set up the plot\n",
    "plt.figure(figsize=(10, 6))\n",
    "\n",
    "# Plot the distribution using seaborn (both histogram and KDE)\n",
    "sns.histplot(series, bins=30, kde=True, color='blue', stat='density')\n",
    "\n",
    "# Add titles and labels\n",
    "plt.title('Distribution of Cosine Score', fontsize=16)\n",
    "plt.xlabel('Values', fontsize=12)\n",
    "plt.ylabel('Density', fontsize=12)\n",
    "\n",
    "# Show the plot\n",
    "plt.show()\n"
   ]
  },
  {
   "cell_type": "code",
   "execution_count": 83,
   "id": "16b0af18-2e2e-4441-9089-c0c5974beb36",
   "metadata": {},
   "outputs": [],
   "source": [
    "df_eval.to_csv('../data/rag-eval-llm-ground-truth.csv', index=False)"
   ]
  },
  {
   "cell_type": "code",
   "execution_count": null,
   "id": "ebff80c5-18a9-4bb8-b6e5-90e500477fbf",
   "metadata": {},
   "outputs": [],
   "source": []
  },
  {
   "cell_type": "code",
   "execution_count": null,
   "id": "de63ecc0-c2c4-4a06-a65c-374e3b99686b",
   "metadata": {},
   "outputs": [],
   "source": []
  }
 ],
 "metadata": {
  "kernelspec": {
   "display_name": "Python 3 (ipykernel)",
   "language": "python",
   "name": "python3"
  },
  "language_info": {
   "codemirror_mode": {
    "name": "ipython",
    "version": 3
   },
   "file_extension": ".py",
   "mimetype": "text/x-python",
   "name": "python",
   "nbconvert_exporter": "python",
   "pygments_lexer": "ipython3",
   "version": "3.10.8"
  }
 },
 "nbformat": 4,
 "nbformat_minor": 5
}
