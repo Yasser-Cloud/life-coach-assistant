{
 "cells": [
  {
   "cell_type": "markdown",
   "id": "ccbbc8b9-e26d-4b9f-8dfe-34d84122f7ed",
   "metadata": {},
   "source": [
    "## Download Dataset"
   ]
  },
  {
   "cell_type": "code",
   "execution_count": 126,
   "id": "179a0aee-23a0-4aac-ab3f-cc26b6afdef0",
   "metadata": {},
   "outputs": [],
   "source": [
    "\n",
    "from datasets import load_dataset\n",
    "import pandas as pd\n",
    "import warnings\n",
    "import json\n",
    "import re\n",
    "warnings.filterwarnings('ignore')\n",
    "dataset = load_dataset(\"li2017dailydialog/daily_dialog\",split='train')"
   ]
  },
  {
   "cell_type": "code",
   "execution_count": 2,
   "id": "d6daefbb-7149-48b3-9fdf-d3780dafc795",
   "metadata": {},
   "outputs": [
    {
     "data": {
      "text/plain": [
       "Dataset({\n",
       "    features: ['dialog', 'act', 'emotion'],\n",
       "    num_rows: 11118\n",
       "})"
      ]
     },
     "execution_count": 2,
     "metadata": {},
     "output_type": "execute_result"
    }
   ],
   "source": [
    "dataset"
   ]
  },
  {
   "cell_type": "code",
   "execution_count": 3,
   "id": "dbb5003e-d021-46f8-900e-99cb896c7928",
   "metadata": {},
   "outputs": [
    {
     "data": {
      "text/plain": [
       "{'dialog': ['Say , Jim , how about going for a few beers after dinner ? ',\n",
       "  ' You know that is tempting but is really not good for our fitness . ',\n",
       "  ' What do you mean ? It will help us to relax . ',\n",
       "  \" Do you really think so ? I don't . It will just make us fat and act silly . Remember last time ? \",\n",
       "  \" I guess you are right.But what shall we do ? I don't feel like sitting at home . \",\n",
       "  ' I suggest a walk over to the gym where we can play singsong and meet some of our friends . ',\n",
       "  \" That's a good idea . I hear Mary and Sally often go there to play pingpong.Perhaps we can make a foursome with them . \",\n",
       "  ' Sounds great to me ! If they are willing , we could ask them to go dancing with us.That is excellent exercise and fun , too . ',\n",
       "  \" Good.Let ' s go now . \",\n",
       "  ' All right . '],\n",
       " 'act': [3, 4, 2, 2, 2, 3, 4, 1, 3, 4],\n",
       " 'emotion': [0, 0, 0, 0, 0, 0, 4, 4, 4, 4]}"
      ]
     },
     "execution_count": 3,
     "metadata": {},
     "output_type": "execute_result"
    }
   ],
   "source": [
    "dataset[0]"
   ]
  },
  {
   "cell_type": "markdown",
   "id": "4da599ab-4385-4d7a-bc6b-ba0cb3b83cfb",
   "metadata": {},
   "source": [
    "## data cleaning"
   ]
  },
  {
   "cell_type": "markdown",
   "id": "b43a11d0-2774-467f-82ba-cd48e0af0c46",
   "metadata": {},
   "source": [
    "emoji:- no emotion (0), anger (1), disgust (2), fear (3), happiness (4), sadness (5) and surprise (6).\n",
    "\n",
    "act:- dummy(0), inform (1), question (2), directive (3) and commissive (4)."
   ]
  },
  {
   "cell_type": "code",
   "execution_count": 4,
   "id": "0cf90d58-9581-44ad-a4a3-7e11f8ab70c3",
   "metadata": {},
   "outputs": [],
   "source": [
    "# extract emotions keep only unique emotion\n",
    "ll = 'no emotion , anger , disgust , fear , happiness , sadness , surprise '.split(',')\n",
    "emo = dict(zip([i for i in range(7)],ll))\n",
    "\n",
    "# extract actions keep only unique action\n",
    "\n",
    "lll = 'dummy, inform , question , directive , commissive '.split(',')\n",
    "\n",
    "act = dict(zip([i for i in range(5)],lll))"
   ]
  },
  {
   "cell_type": "code",
   "execution_count": 5,
   "id": "12bf9e9f-ec70-4895-b712-45e27e75ad02",
   "metadata": {},
   "outputs": [],
   "source": [
    "extracted_emo=[]\n",
    "for i in dataset['emotion']:\n",
    "    extracted_emo.append(','.join({emo[j] for j in i if j }))\n",
    "    if  len(extracted_emo[-1])==0:\n",
    "        extracted_emo[-1]='no emotion'\n",
    "\n",
    "extracted_act=[]\n",
    "for i in dataset['act']:\n",
    "    extracted_act.append(','.join({act[j] for j in i if j }))\n",
    "    if  len(extracted_act[-1])==0:\n",
    "        extracted_act[-1]='dummy'"
   ]
  },
  {
   "cell_type": "code",
   "execution_count": 6,
   "id": "ea8e7852-5631-4ee1-add0-f33ca6dfda16",
   "metadata": {},
   "outputs": [
    {
     "data": {
      "text/plain": [
       "(11118, 11118)"
      ]
     },
     "execution_count": 6,
     "metadata": {},
     "output_type": "execute_result"
    }
   ],
   "source": [
    "len(extracted_emo) , len(extracted_act)"
   ]
  },
  {
   "cell_type": "code",
   "execution_count": 7,
   "id": "cc12254d-07ba-4a14-9aa9-fb0f3a82454c",
   "metadata": {},
   "outputs": [
    {
     "data": {
      "text/plain": [
       "' directive , commissive , question , inform '"
      ]
     },
     "execution_count": 7,
     "metadata": {},
     "output_type": "execute_result"
    }
   ],
   "source": [
    "extracted_act[0]"
   ]
  },
  {
   "cell_type": "code",
   "execution_count": 8,
   "id": "f147f8c3-ad04-49a3-a9a7-5de797b694b9",
   "metadata": {},
   "outputs": [],
   "source": [
    "#extract text\n",
    "text = []\n",
    "for i in dataset['dialog']:\n",
    "    text.append(' '.join(i))"
   ]
  },
  {
   "cell_type": "code",
   "execution_count": 9,
   "id": "92240b07-80d4-450f-9cbc-b49c30af2385",
   "metadata": {},
   "outputs": [
    {
     "data": {
      "text/plain": [
       "\"Say , Jim , how about going for a few beers after dinner ?   You know that is tempting but is really not good for our fitness .   What do you mean ? It will help us to relax .   Do you really think so ? I don't . It will just make us fat and act silly . Remember last time ?   I guess you are right.But what shall we do ? I don't feel like sitting at home .   I suggest a walk over to the gym where we can play singsong and meet some of our friends .   That's a good idea . I hear Mary and Sally often go there to play pingpong.Perhaps we can make a foursome with them .   Sounds great to me ! If they are willing , we could ask them to go dancing with us.That is excellent exercise and fun , too .   Good.Let ' s go now .   All right . \""
      ]
     },
     "execution_count": 9,
     "metadata": {},
     "output_type": "execute_result"
    }
   ],
   "source": [
    "text[0]"
   ]
  },
  {
   "cell_type": "markdown",
   "id": "7d496369-3149-4de1-b6ea-b4519248894a",
   "metadata": {},
   "source": [
    "## Save the dataset"
   ]
  },
  {
   "cell_type": "code",
   "execution_count": 10,
   "id": "27202652-89c5-4bbb-b554-6ba87224c34a",
   "metadata": {},
   "outputs": [],
   "source": [
    "daily_dialog = pd.DataFrame( zip(text,extracted_emo,extracted_act), columns = ['text','emoji','action'])"
   ]
  },
  {
   "cell_type": "code",
   "execution_count": 11,
   "id": "aebea6eb-7d00-40c6-b007-fada9befa199",
   "metadata": {},
   "outputs": [
    {
     "data": {
      "text/html": [
       "<div>\n",
       "<style scoped>\n",
       "    .dataframe tbody tr th:only-of-type {\n",
       "        vertical-align: middle;\n",
       "    }\n",
       "\n",
       "    .dataframe tbody tr th {\n",
       "        vertical-align: top;\n",
       "    }\n",
       "\n",
       "    .dataframe thead th {\n",
       "        text-align: right;\n",
       "    }\n",
       "</style>\n",
       "<table border=\"1\" class=\"dataframe\">\n",
       "  <thead>\n",
       "    <tr style=\"text-align: right;\">\n",
       "      <th></th>\n",
       "      <th>text</th>\n",
       "      <th>emoji</th>\n",
       "      <th>action</th>\n",
       "    </tr>\n",
       "  </thead>\n",
       "  <tbody>\n",
       "    <tr>\n",
       "      <th>3258</th>\n",
       "      <td>I heard that Kevin got divorced . Is that true...</td>\n",
       "      <td>surprise</td>\n",
       "      <td>question , inform</td>\n",
       "    </tr>\n",
       "    <tr>\n",
       "      <th>4232</th>\n",
       "      <td>Would you like to have dinner with me tonight ...</td>\n",
       "      <td>no emotion</td>\n",
       "      <td>directive , commissive , inform</td>\n",
       "    </tr>\n",
       "    <tr>\n",
       "      <th>3186</th>\n",
       "      <td>Susan , Did you know the four ugliest women in...</td>\n",
       "      <td>no emotion</td>\n",
       "      <td>question , inform</td>\n",
       "    </tr>\n",
       "    <tr>\n",
       "      <th>644</th>\n",
       "      <td>Did you hear what happened to Mike last night ...</td>\n",
       "      <td>surprise</td>\n",
       "      <td>question , inform</td>\n",
       "    </tr>\n",
       "    <tr>\n",
       "      <th>40</th>\n",
       "      <td>Could you tell me the right time , please ?   ...</td>\n",
       "      <td>no emotion</td>\n",
       "      <td>directive , commissive , inform</td>\n",
       "    </tr>\n",
       "    <tr>\n",
       "      <th>7145</th>\n",
       "      <td>Would you please explain for me what a busines...</td>\n",
       "      <td>no emotion</td>\n",
       "      <td>directive , question , inform</td>\n",
       "    </tr>\n",
       "    <tr>\n",
       "      <th>211</th>\n",
       "      <td>Did you get any rewards or honors in college ?...</td>\n",
       "      <td>happiness</td>\n",
       "      <td>question , inform</td>\n",
       "    </tr>\n",
       "    <tr>\n",
       "      <th>10185</th>\n",
       "      <td>I don't know if you remember , but with honest...</td>\n",
       "      <td>surprise , happiness</td>\n",
       "      <td>inform</td>\n",
       "    </tr>\n",
       "    <tr>\n",
       "      <th>9387</th>\n",
       "      <td>Hi , my name is Tom .   Tom , the new sales re...</td>\n",
       "      <td>surprise</td>\n",
       "      <td>directive , commissive , inform</td>\n",
       "    </tr>\n",
       "    <tr>\n",
       "      <th>4567</th>\n",
       "      <td>How can I lose weight , doctor ? I seem to get...</td>\n",
       "      <td>no emotion</td>\n",
       "      <td>question , inform</td>\n",
       "    </tr>\n",
       "  </tbody>\n",
       "</table>\n",
       "</div>"
      ],
      "text/plain": [
       "                                                    text  \\\n",
       "3258   I heard that Kevin got divorced . Is that true...   \n",
       "4232   Would you like to have dinner with me tonight ...   \n",
       "3186   Susan , Did you know the four ugliest women in...   \n",
       "644    Did you hear what happened to Mike last night ...   \n",
       "40     Could you tell me the right time , please ?   ...   \n",
       "7145   Would you please explain for me what a busines...   \n",
       "211    Did you get any rewards or honors in college ?...   \n",
       "10185  I don't know if you remember , but with honest...   \n",
       "9387   Hi , my name is Tom .   Tom , the new sales re...   \n",
       "4567   How can I lose weight , doctor ? I seem to get...   \n",
       "\n",
       "                        emoji                             action  \n",
       "3258                surprise                  question , inform   \n",
       "4232               no emotion   directive , commissive , inform   \n",
       "3186               no emotion                 question , inform   \n",
       "644                 surprise                  question , inform   \n",
       "40                 no emotion   directive , commissive , inform   \n",
       "7145               no emotion     directive , question , inform   \n",
       "211                happiness                  question , inform   \n",
       "10185   surprise , happiness                             inform   \n",
       "9387                surprise    directive , commissive , inform   \n",
       "4567               no emotion                 question , inform   "
      ]
     },
     "execution_count": 11,
     "metadata": {},
     "output_type": "execute_result"
    }
   ],
   "source": [
    "daily_dialog.sample(10)"
   ]
  },
  {
   "cell_type": "code",
   "execution_count": 12,
   "id": "2a9866d1-be4c-438d-89d2-d6f0634232bd",
   "metadata": {},
   "outputs": [],
   "source": [
    "#remove duplication dailog\n",
    "daily_dialog = daily_dialog.drop_duplicates(subset=['text'],ignore_index=True)\n"
   ]
  },
  {
   "cell_type": "code",
   "execution_count": 13,
   "id": "5854759c-1e78-410a-85dc-53edb3958868",
   "metadata": {},
   "outputs": [
    {
     "data": {
      "text/html": [
       "<div>\n",
       "<style scoped>\n",
       "    .dataframe tbody tr th:only-of-type {\n",
       "        vertical-align: middle;\n",
       "    }\n",
       "\n",
       "    .dataframe tbody tr th {\n",
       "        vertical-align: top;\n",
       "    }\n",
       "\n",
       "    .dataframe thead th {\n",
       "        text-align: right;\n",
       "    }\n",
       "</style>\n",
       "<table border=\"1\" class=\"dataframe\">\n",
       "  <thead>\n",
       "    <tr style=\"text-align: right;\">\n",
       "      <th></th>\n",
       "      <th>text</th>\n",
       "      <th>emoji</th>\n",
       "      <th>action</th>\n",
       "    </tr>\n",
       "  </thead>\n",
       "  <tbody>\n",
       "    <tr>\n",
       "      <th>count</th>\n",
       "      <td>10549</td>\n",
       "      <td>10549</td>\n",
       "      <td>10549</td>\n",
       "    </tr>\n",
       "    <tr>\n",
       "      <th>unique</th>\n",
       "      <td>10549</td>\n",
       "      <td>38</td>\n",
       "      <td>15</td>\n",
       "    </tr>\n",
       "    <tr>\n",
       "      <th>top</th>\n",
       "      <td>Could I have the check , please ?   Okay . I'l...</td>\n",
       "      <td>no emotion</td>\n",
       "      <td>directive , commissive , question , inform</td>\n",
       "    </tr>\n",
       "    <tr>\n",
       "      <th>freq</th>\n",
       "      <td>1</td>\n",
       "      <td>5048</td>\n",
       "      <td>3874</td>\n",
       "    </tr>\n",
       "  </tbody>\n",
       "</table>\n",
       "</div>"
      ],
      "text/plain": [
       "                                                     text       emoji  \\\n",
       "count                                               10549       10549   \n",
       "unique                                              10549          38   \n",
       "top     Could I have the check , please ?   Okay . I'l...  no emotion   \n",
       "freq                                                    1        5048   \n",
       "\n",
       "                                              action  \n",
       "count                                          10549  \n",
       "unique                                            15  \n",
       "top      directive , commissive , question , inform   \n",
       "freq                                            3874  "
      ]
     },
     "execution_count": 13,
     "metadata": {},
     "output_type": "execute_result"
    }
   ],
   "source": [
    "daily_dialog.describe()"
   ]
  },
  {
   "cell_type": "code",
   "execution_count": 14,
   "id": "8749200a-ab36-445f-8e86-fbd1c275c194",
   "metadata": {},
   "outputs": [],
   "source": [
    "daily_dialog.to_csv('./../data/daily_dialog.csv',index = False)"
   ]
  },
  {
   "cell_type": "markdown",
   "id": "33c2e4f0-fe62-41d7-8d81-6bd5468dae25",
   "metadata": {},
   "source": [
    "## build ground truth"
   ]
  },
  {
   "cell_type": "code",
   "execution_count": 15,
   "id": "d12f5a79-6964-458b-a0d6-741e037b20d1",
   "metadata": {},
   "outputs": [
    {
     "name": "stdout",
     "output_type": "stream",
     "text": [
      "Ground truth file created: ./../data/daily_dialog_ground_truth.csv\n"
     ]
    }
   ],
   "source": [
    "import pandas as pd\n",
    "from sklearn.feature_extraction.text import TfidfVectorizer\n",
    "from sklearn.metrics.pairwise import cosine_similarity\n",
    "\n",
    "def generate_ground_truth(df, output_file,ground_truth_size=300):    \n",
    "    # Create a TF-IDF vectorizer\n",
    "    vectorizer = TfidfVectorizer()\n",
    "    tfidf_matrix = vectorizer.fit_transform(df['text'])\n",
    "    \n",
    "    # Calculate cosine similarity between all pairs of dialogues\n",
    "    cosine_sim = cosine_similarity(tfidf_matrix)\n",
    "    \n",
    "    # Generate ground truth data\n",
    "    ground_truth = []\n",
    "    for idx, row in df.iterrows():\n",
    "        dialogue_id = idx\n",
    "    \n",
    "          # Extract the dialogue from the text column\n",
    "        dialogue_list = row['text'].split(',')  # Convert string representation of list to actual list\n",
    "        \n",
    "        if len(dialogue_list) >= 2:\n",
    "            query = dialogue_list[-2]  # Second last is the question\n",
    "            ground_truth_response = dialogue_list[-1]  # Last is the response\n",
    "        else:\n",
    "            query = \"No dialogue\"\n",
    "            ground_truth_response = \"No response\"\n",
    "        \n",
    "            \n",
    "        # Create ground truth entry\n",
    "        entry = {\n",
    "            'dialogue_id': dialogue_id,\n",
    "            'query': query,\n",
    "            'ground_truth_response': ground_truth_response\n",
    "           \n",
    "        }\n",
    "        ground_truth.append(entry)\n",
    "    \n",
    "    # Convert to DataFrame and save as CSV\n",
    "    ground_truth_df = pd.DataFrame(ground_truth)\n",
    "    \n",
    "    # Generate a random sample of 300 records from the original test DataFrame\n",
    "    # Set a random seed for reproducibility\n",
    "    sampled_df = ground_truth_df.sample(n=ground_truth_size, random_state=40,ignore_index = True)\n",
    "    sampled_df.to_csv(output_file, index=False)\n",
    "    print(f\"Ground truth file created: {output_file}\")\n",
    "\n",
    "\n",
    "\n",
    "\n",
    "output_file = './../data/daily_dialog_ground_truth.csv'\n",
    "\n",
    "generate_ground_truth(daily_dialog, output_file,ground_truth_size=1000)"
   ]
  },
  {
   "cell_type": "markdown",
   "id": "abd96067-0271-40fc-9f02-ded9fa4b936c",
   "metadata": {},
   "source": [
    "## Use LLM to biuld ground truth "
   ]
  },
  {
   "cell_type": "code",
   "execution_count": 127,
   "id": "d3645437-2f31-47c4-9918-9ddd59b8546d",
   "metadata": {},
   "outputs": [
    {
     "data": {
      "text/plain": [
       "[{'generated_text': [{'role': 'user', 'content': 'Who are you?'},\n",
       "   {'role': 'assistant',\n",
       "    'content': 'I am Qwen, an artificial intelligence language model created by Alibaba Cloud. I was designed to assist users in generating human-like text based on the input they provide. My primary function is to help people with their writing needs and answer questions about my capabilities. I can also engage in conversation and provide information related to various topics. If you have any specific queries or areas of interest, feel free to ask me!'}]}]"
      ]
     },
     "execution_count": 127,
     "metadata": {},
     "output_type": "execute_result"
    }
   ],
   "source": [
    "from transformers import pipeline\n",
    "# Use a pipeline as a high-level helper\n",
    "from transformers import pipeline , set_seed\n",
    "\n",
    "messages = [\n",
    "    {\"role\": \"user\", \"content\": \"Who are you?\"},\n",
    "]\n",
    "pipe = pipeline(\"text-generation\",\n",
    "                model=\"Qwen/Qwen2.5-0.5B-Instruct\", \n",
    "                device_map=\"auto\",\n",
    "                max_new_tokens=256,\n",
    "                do_sample=False\n",
    "                )\n",
    "set_seed(42)\n",
    "pipe(messages)"
   ]
  },
  {
   "cell_type": "code",
   "execution_count": 4,
   "id": "a097e030-d306-4774-b064-c13b8d90f326",
   "metadata": {},
   "outputs": [],
   "source": [
    "daily_dialog = pd.read_csv('./../data/daily_dialog.csv')"
   ]
  },
  {
   "cell_type": "code",
   "execution_count": 8,
   "id": "7282ecb5-318c-4c1c-a7fb-76161debcc49",
   "metadata": {},
   "outputs": [],
   "source": [
    "daily_dialog['id']=daily_dialog.index "
   ]
  },
  {
   "cell_type": "code",
   "execution_count": 9,
   "id": "791867a0-737c-474b-8ee1-841bd9ffaee2",
   "metadata": {},
   "outputs": [
    {
     "data": {
      "text/html": [
       "<div>\n",
       "<style scoped>\n",
       "    .dataframe tbody tr th:only-of-type {\n",
       "        vertical-align: middle;\n",
       "    }\n",
       "\n",
       "    .dataframe tbody tr th {\n",
       "        vertical-align: top;\n",
       "    }\n",
       "\n",
       "    .dataframe thead th {\n",
       "        text-align: right;\n",
       "    }\n",
       "</style>\n",
       "<table border=\"1\" class=\"dataframe\">\n",
       "  <thead>\n",
       "    <tr style=\"text-align: right;\">\n",
       "      <th></th>\n",
       "      <th>text</th>\n",
       "      <th>emoji</th>\n",
       "      <th>action</th>\n",
       "      <th>id</th>\n",
       "    </tr>\n",
       "  </thead>\n",
       "  <tbody>\n",
       "    <tr>\n",
       "      <th>0</th>\n",
       "      <td>Say , Jim , how about going for a few beers af...</td>\n",
       "      <td>happiness</td>\n",
       "      <td>directive , commissive , question , inform</td>\n",
       "      <td>0</td>\n",
       "    </tr>\n",
       "    <tr>\n",
       "      <th>1</th>\n",
       "      <td>Can you do push-ups ?   Of course I can . It's...</td>\n",
       "      <td>surprise</td>\n",
       "      <td>question , inform</td>\n",
       "      <td>1</td>\n",
       "    </tr>\n",
       "    <tr>\n",
       "      <th>2</th>\n",
       "      <td>Can you study with the radio on ?   No , I lis...</td>\n",
       "      <td>no emotion</td>\n",
       "      <td>question , inform</td>\n",
       "      <td>2</td>\n",
       "    </tr>\n",
       "    <tr>\n",
       "      <th>3</th>\n",
       "      <td>Are you all right ?   I will be all right soon...</td>\n",
       "      <td>no emotion</td>\n",
       "      <td>question , inform</td>\n",
       "      <td>3</td>\n",
       "    </tr>\n",
       "    <tr>\n",
       "      <th>4</th>\n",
       "      <td>Hey John , nice skates . Are they new ?   Yeah...</td>\n",
       "      <td>surprise</td>\n",
       "      <td>directive , commissive , question , inform</td>\n",
       "      <td>4</td>\n",
       "    </tr>\n",
       "  </tbody>\n",
       "</table>\n",
       "</div>"
      ],
      "text/plain": [
       "                                                text        emoji  \\\n",
       "0  Say , Jim , how about going for a few beers af...   happiness    \n",
       "1  Can you do push-ups ?   Of course I can . It's...    surprise    \n",
       "2  Can you study with the radio on ?   No , I lis...   no emotion   \n",
       "3  Are you all right ?   I will be all right soon...   no emotion   \n",
       "4  Hey John , nice skates . Are they new ?   Yeah...    surprise    \n",
       "\n",
       "                                         action  id  \n",
       "0   directive , commissive , question , inform    0  \n",
       "1                            question , inform    1  \n",
       "2                            question , inform    2  \n",
       "3                            question , inform    3  \n",
       "4   directive , commissive , question , inform    4  "
      ]
     },
     "execution_count": 9,
     "metadata": {},
     "output_type": "execute_result"
    }
   ],
   "source": [
    "daily_dialog.head()"
   ]
  },
  {
   "cell_type": "code",
   "execution_count": 130,
   "id": "767a2fd0-4937-4b8a-8108-5ff9960c028f",
   "metadata": {},
   "outputs": [],
   "source": [
    "sampled_df = daily_dialog.sample(n=500, random_state=40,ignore_index = True)\n",
    "    "
   ]
  },
  {
   "cell_type": "code",
   "execution_count": 131,
   "id": "50eaadae-047f-449f-b748-b8f33f30f6cf",
   "metadata": {},
   "outputs": [],
   "source": [
    "documents = sampled_df.to_dict(orient='records')\n",
    "\n",
    "prompt_template = \"\"\"\n",
    "You emulate a user of our life coach application.\n",
    "Formulate a question with it's answer this user might ask based on a provided dialog text.\n",
    "Make the questions specific to this dialog.\n",
    "The record should contain the answer to the questions, and the questions should\n",
    "be complete and not too short. Use as fewer words as possible from the record. \n",
    "\n",
    "The record:\n",
    "\n",
    "dialog: {text}\n",
    "\n",
    "\n",
    "Provide the output in parsable JSON without using code blocks:\n",
    "\n",
    "{{\"questions\": [  ]}}\n",
    "\"\"\".strip()\n",
    "\n",
    "prompt = prompt_template.format(**documents[5])\n",
    "\n"
   ]
  },
  {
   "cell_type": "code",
   "execution_count": 132,
   "id": "4d9b209c-b42a-4392-986c-2142c667ce81",
   "metadata": {},
   "outputs": [
    {
     "name": "stdout",
     "output_type": "stream",
     "text": [
      "You emulate a user of our life coach application.\n",
      "Formulate a question with it's answer this user might ask based on a provided dialog text.\n",
      "Make the questions specific to this dialog.\n",
      "The record should contain the answer to the questions, and the questions should\n",
      "be complete and not too short. Use as fewer words as possible from the record. \n",
      "\n",
      "The record:\n",
      "\n",
      "dialog: Hey , Robert , that's a nice shirt you are wearing . Where did you get it ?   thanks , I like it too . I bought it at the nearby department store .   that's nice . Do you know you can get one at the wholesale market near the zoo for a much lower price ?   yeah , I know that . But at those places . the prices they ask you are ridiculously high , and if you don't bargain hard , you will get ripped-off .   true , learning how to haggle the price is one of the things people have to pick up when they come to China for the first time .   yeah , but personally , I hate bargaining . If I bargain , I might come to a lower price , but I will never know the true price of what I am buying ; and I always have the feeling that I am overcharged at th   yeah , I have the same feeling . Also there is another thing that bothers me the quality . Things in a department store are usually quality-guaranteed . But at a wholesale market , you never know whether w   that's why I like department stores more . Shopping at a wholesale market like the locals is one of the few things I am unable to grow accustomed to .   I understand . While it's always good to follow the local customs , I guess there are exceptions . \n",
      "\n",
      "\n",
      "Provide the output in parsable JSON without using code blocks:\n",
      "\n",
      "{\"questions\": [  ]}\n"
     ]
    }
   ],
   "source": [
    "print(prompt)"
   ]
  },
  {
   "cell_type": "code",
   "execution_count": 133,
   "id": "4981fa8a-da08-4fe2-bd8b-f8129477a8d5",
   "metadata": {},
   "outputs": [],
   "source": [
    "def llm(prompt):\n",
    "   \n",
    "    messages=[{\"role\": \"user\", \"content\": prompt}]\n",
    "    \n",
    "    \n",
    "    return pipe(messages)[0]['generated_text'][1]['content']"
   ]
  },
  {
   "cell_type": "code",
   "execution_count": 134,
   "id": "c5f0c678-0896-479d-a62b-ab7e18d9406f",
   "metadata": {},
   "outputs": [
    {
     "name": "stdout",
     "output_type": "stream",
     "text": [
      "```json\n",
      "{\n",
      "  \"questions\": [\n",
      "    {\n",
      "      \"question\": \"Where did you buy the shirt?\",\n",
      "      \"answer\": \"I bought it at the nearby department store.\"\n",
      "    },\n",
      "    {\n",
      "      \"question\": \"Do you know you can get one at the wholesale market near the zoo for a much lower price?\",\n",
      "      \"answer\": \"Yes, I know that. But at those places, the prices they ask are ridiculously high, and if you don't bargain hard, you will get ripped-off.\"\n",
      "    },\n",
      "    {\n",
      "      \"question\": \"What do you think about haggling the price?\",\n",
      "      \"answer\": \"Learning how to haggle the price is one of the things people have to learn when they come to China for the first time. However, I hate bargaining because I might come to a lower price, but I won't know the true price of what I'm buying; and I always feel that I am overcharged at the wholesale market.\"\n",
      "    }\n",
      "  ]\n",
      "}\n",
      "```\n"
     ]
    }
   ],
   "source": [
    "print(llm(prompt))"
   ]
  },
  {
   "cell_type": "code",
   "execution_count": 143,
   "id": "3e374fa9-82c1-4079-b3bd-52b47e8bc225",
   "metadata": {},
   "outputs": [
    {
     "data": {
      "application/vnd.jupyter.widget-view+json": {
       "model_id": "1f23e42f3615490bb4ebb6334e333e8a",
       "version_major": 2,
       "version_minor": 0
      },
      "text/plain": [
       "  0%|          | 0/500 [00:00<?, ?it/s]"
      ]
     },
     "metadata": {},
     "output_type": "display_data"
    }
   ],
   "source": [
    "sample = sampled_df.to_dict(orient='records')\n",
    "\n",
    "qa = []\n",
    "\n",
    "for record in tqdm(sample):\n",
    "    \n",
    "    prompt = prompt_template.format(**record)\n",
    "    response = llm(prompt) \n",
    "    \n",
    "    match = re.search(r'```json(.*?)```', response, re.DOTALL)\n",
    "\n",
    "\n",
    "    if match:\n",
    "        extracted_content = match.group(1).strip()  # Extract the content and remove leading/trailing whitespace\n",
    "        #print(extracted_content)\n",
    "    else:\n",
    "   \n",
    "        extracted_content = response  # Extract the content and remove leading/trailing whitespace\n",
    "   \n",
    "\n",
    "    try:\n",
    "        content = json.loads(extracted_content)\n",
    "    except :\n",
    "        continue\n",
    "\n",
    "    qa.append((record, content))"
   ]
  },
  {
   "cell_type": "code",
   "execution_count": 144,
   "id": "38d8a65f-76db-41cb-8bf8-83788e357fe6",
   "metadata": {},
   "outputs": [
    {
     "data": {
      "text/plain": [
       "({'text': \"I want to buy a rain coat . Could you please show me one ?   With pleasure . What color do you like ?   I like yellow best . How much does it cost ?   It costs 275 yuan , Miss .   It's nice , but that's very steep for a rain coat . Could you give me a 20 percent discount ?   Sorry , we don't give discounts .   In that case , I don't think I'll buy one here . \",\n",
       "  'emoji': ' sadness ',\n",
       "  'action': ' directive , commissive , question , inform ',\n",
       "  'id': 8777},\n",
       " {'questions': [{'question': 'What is your favorite color?',\n",
       "    'answer': 'Yellow'},\n",
       "   {'question': 'How much would you like to pay for the raincoat?',\n",
       "    'answer': '$275'},\n",
       "   {'question': 'Would you like a 20% discount?',\n",
       "    'answer': \"Sorry, we don't offer any discounts.\"}]})"
      ]
     },
     "execution_count": 144,
     "metadata": {},
     "output_type": "execute_result"
    }
   ],
   "source": [
    "qa[0]"
   ]
  },
  {
   "cell_type": "code",
   "execution_count": 153,
   "id": "6adf6435-5509-4748-9216-8a66433d7c3a",
   "metadata": {},
   "outputs": [
    {
     "data": {
      "text/plain": [
       "{'questions': [{'question': 'What is your favorite color?',\n",
       "   'answer': 'Yellow'},\n",
       "  {'question': 'How much would you like to pay for the raincoat?',\n",
       "   'answer': '$275'},\n",
       "  {'question': 'Would you like a 20% discount?',\n",
       "   'answer': \"Sorry, we don't offer any discounts.\"}]}"
      ]
     },
     "execution_count": 153,
     "metadata": {},
     "output_type": "execute_result"
    }
   ],
   "source": [
    "df_eval.content[0]"
   ]
  },
  {
   "cell_type": "code",
   "execution_count": 176,
   "id": "5267799b-2608-4b82-9090-98a6aaba8f9a",
   "metadata": {},
   "outputs": [],
   "source": [
    "def questions(i):\n",
    "   \n",
    "    if  i.get('questions') :  # is not empty list\n",
    "        questions=[]\n",
    "        for j in i.get('questions'):\n",
    "            try:\n",
    "             questions.append(j.get('question'))\n",
    "            except:\n",
    "                continue\n",
    "        return questions\n",
    "\n",
    "def answers(i):\n",
    "    \n",
    "    if  i.get('questions') :  # is not empty list\n",
    "        answers=[]\n",
    "        for j in i.get('questions'):\n",
    "            try:\n",
    "             answers.append(j.get('answer'))\n",
    "            except:\n",
    "                continue\n",
    "        return answers\n",
    "answers(df_eval.content)"
   ]
  },
  {
   "cell_type": "code",
   "execution_count": 177,
   "id": "297df067-bb62-4793-beed-99df885a68fd",
   "metadata": {},
   "outputs": [],
   "source": [
    "df_eval = pd.DataFrame(qa, columns=['record','content'])\n",
    "\n",
    "df_eval['id'] = df_eval.record.apply(lambda d: d['id'])\n",
    "df_eval['text'] = df_eval.record.apply(lambda d: d['text'])\n",
    "df_eval['emoji'] = df_eval.record.apply(lambda d: d['emoji'])\n",
    "df_eval['action'] = df_eval.record.apply(lambda d: d['action'])\n",
    "\n",
    "\n",
    "\n",
    "df_eval['questions'] = df_eval.content.apply(lambda d: questions(d) )\n",
    "df_eval['answers'] = df_eval.content.apply(lambda d: answers(d) )\n",
    "\n",
    "del df_eval['record']\n",
    "del df_eval['content']"
   ]
  },
  {
   "cell_type": "code",
   "execution_count": 179,
   "id": "4f5c8627-88ad-4774-915c-2b72797d41f0",
   "metadata": {},
   "outputs": [
    {
     "data": {
      "text/plain": [
       "(491, 6)"
      ]
     },
     "execution_count": 179,
     "metadata": {},
     "output_type": "execute_result"
    }
   ],
   "source": [
    "df_eval.shape"
   ]
  },
  {
   "cell_type": "code",
   "execution_count": 200,
   "id": "29828c70-c75b-429e-b649-2d5c55df0bdc",
   "metadata": {},
   "outputs": [],
   "source": [
    "df_cleaned = df_eval.dropna(subset=['questions','answers'], axis=0)"
   ]
  },
  {
   "cell_type": "code",
   "execution_count": 201,
   "id": "37710e88-8fe2-43ac-b307-99d444851204",
   "metadata": {},
   "outputs": [],
   "source": [
    "df = df_cleaned.explode(['questions','answers'])"
   ]
  },
  {
   "cell_type": "code",
   "execution_count": 202,
   "id": "d178347d-d56a-44a6-977d-b116c8afcb6e",
   "metadata": {},
   "outputs": [
    {
     "data": {
      "text/plain": [
       "(489, 6)"
      ]
     },
     "execution_count": 202,
     "metadata": {},
     "output_type": "execute_result"
    }
   ],
   "source": [
    "df.shape"
   ]
  },
  {
   "cell_type": "code",
   "execution_count": 203,
   "id": "5b941422-29df-43e7-92f0-5f65634a3dae",
   "metadata": {},
   "outputs": [],
   "source": [
    "df = df.dropna(subset=['questions','answers'], axis=0)"
   ]
  },
  {
   "cell_type": "code",
   "execution_count": 205,
   "id": "31aa0b61-4356-4442-a0d9-e6918cffbab6",
   "metadata": {},
   "outputs": [
    {
     "data": {
      "text/plain": [
       "(486, 6)"
      ]
     },
     "execution_count": 205,
     "metadata": {},
     "output_type": "execute_result"
    }
   ],
   "source": [
    "df.shape"
   ]
  },
  {
   "cell_type": "code",
   "execution_count": 204,
   "id": "6d670b4c-4945-4774-8883-bcdf4c2690c7",
   "metadata": {},
   "outputs": [],
   "source": [
    "df.to_csv('../data/ground_truth_llm.csv', index=False)"
   ]
  },
  {
   "cell_type": "code",
   "execution_count": null,
   "id": "d16eb51a-9664-43d6-9ffa-7bbfc924a09b",
   "metadata": {},
   "outputs": [],
   "source": []
  }
 ],
 "metadata": {
  "kernelspec": {
   "display_name": "Python 3 (ipykernel)",
   "language": "python",
   "name": "python3"
  },
  "language_info": {
   "codemirror_mode": {
    "name": "ipython",
    "version": 3
   },
   "file_extension": ".py",
   "mimetype": "text/x-python",
   "name": "python",
   "nbconvert_exporter": "python",
   "pygments_lexer": "ipython3",
   "version": "3.10.8"
  }
 },
 "nbformat": 4,
 "nbformat_minor": 5
}
